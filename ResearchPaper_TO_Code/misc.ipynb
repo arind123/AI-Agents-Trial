{
 "cells": [
  {
   "cell_type": "code",
   "execution_count": 22,
   "id": "cf4820d3",
   "metadata": {},
   "outputs": [],
   "source": [
    "import os\n",
    "import hashlib\n",
    "from typing import List, Dict\n",
    "from langchain_community.document_loaders import PyPDFLoader\n",
    "from langchain_community.embeddings import OllamaEmbeddings\n",
    "from langchain_community.vectorstores import Chroma\n",
    "from langchain_text_splitters import RecursiveCharacterTextSplitter\n",
    "import uuid\n",
    "import re"
   ]
  },
  {
   "cell_type": "code",
   "execution_count": 4,
   "id": "9dead901",
   "metadata": {},
   "outputs": [
    {
     "name": "stdout",
     "output_type": "stream",
     "text": [
      "['./pdfs/Attention_Is_All_You_Need.pdf', './pdfs/LONG SHORT-TERM MEMORY.pdf']\n"
     ]
    }
   ],
   "source": [
    "PDFS_FOLDER = './pdfs/'\n",
    "files_to_process = os.listdir(PDFS_FOLDER)\n",
    "files_to_process = [f for f in files_to_process if f.endswith('.pdf')]\n",
    "files_to_process = [os.path.join(PDFS_FOLDER, f) for f in files_to_process]\n",
    "print(files_to_process)"
   ]
  },
  {
   "cell_type": "code",
   "execution_count": 6,
   "id": "cbbc495e",
   "metadata": {},
   "outputs": [
    {
     "name": "stdout",
     "output_type": "stream",
     "text": [
      "Calculating MD5 for file: ./pdfs/Attention_Is_All_You_Need.pdf\n",
      "18e1b007a1dab45b30cc861ba2dfda25\n"
     ]
    }
   ],
   "source": [
    "#\n",
    "filepath = files_to_process[0]\n",
    "print(f\"Calculating MD5 for file: {filepath}\")\n",
    "hasher = hashlib.md5()\n",
    "with open(filepath, \"rb\") as f:\n",
    "    buf = f.read()\n",
    "    hasher.update(buf)\n",
    "print(hasher.hexdigest())"
   ]
  },
  {
   "cell_type": "code",
   "execution_count": 8,
   "id": "46c98f6d",
   "metadata": {},
   "outputs": [
    {
     "name": "stdout",
     "output_type": "stream",
     "text": [
      "{}\n"
     ]
    }
   ],
   "source": [
    "RAG_PERSIST_DIR = './rag_vectorstore/'\n",
    "if  os.path.exists(RAG_PERSIST_DIR):\n",
    "     \n",
    "    db = Chroma(persist_directory=RAG_PERSIST_DIR, embedding_function=OllamaEmbeddings(model=\"mxbai-embed-large\"))\n",
    "    docs = db.get(include=[\"metadatas\"])\n",
    "    existing = {}\n",
    "    for meta in docs[\"metadatas\"]:\n",
    "        if \"source\" in meta and \"hash\" in meta:\n",
    "            existing[os.path.basename(meta[\"source\"])] = meta[\"hash\"]\n",
    "else:\n",
    "    existing = {}\n",
    "\n",
    "print(existing)"
   ]
  },
  {
   "cell_type": "code",
   "execution_count": null,
   "id": "d8531bea",
   "metadata": {},
   "outputs": [],
   "source": []
  },
  {
   "cell_type": "code",
   "execution_count": 23,
   "id": "b8e5f883",
   "metadata": {},
   "outputs": [],
   "source": [
    "\n",
    "def clean_text(text: str) -> str:\n",
    "    \"\"\"Remove unwanted breaks, headers, and spacing.\"\"\"\n",
    "    # Remove multiple line breaks\n",
    "    text = re.sub(r'\\n+', '\\n', text)\n",
    "\n",
    "    # Remove page numbers or isolated digits\n",
    "    text = re.sub(r'\\bPage\\s*\\d+\\b', '', text, flags=re.IGNORECASE)\n",
    "    text = re.sub(r'^\\s*\\d+\\s*$', '', text, flags=re.MULTILINE)\n",
    "\n",
    "    # Merge single newlines (within paragraphs)\n",
    "    text = re.sub(r'(?<!\\n)\\n(?!\\n)', ' ', text)\n",
    "\n",
    "    # Remove excessive spaces\n",
    "    text = re.sub(r'\\s+', ' ', text)\n",
    "\n",
    "    return text.strip()\n",
    "\n",
    "\n",
    "def normalize_text(text: str) -> str:\n",
    "    \"\"\"Normalize quotes, ligatures, etc.\"\"\"\n",
    "    text = text.replace(\"ﬁ\", \"fi\").replace(\"ﬂ\", \"fl\")\n",
    "    text = text.replace(\"“\", \"\\\"\").replace(\"”\", \"\\\"\").replace(\"’\", \"'\")\n",
    "    return text\n",
    "\n",
    "\n",
    "def remove_references(text: str) -> str:\n",
    "    \"\"\"Optionally remove reference or bibliography section.\"\"\"\n",
    "    parts = re.split(r'\\bReferences\\b|\\bBibliography\\b', text, flags=re.IGNORECASE)\n",
    "    return parts[0] if parts else text"
   ]
  },
  {
   "cell_type": "code",
   "execution_count": 24,
   "id": "013762d5",
   "metadata": {},
   "outputs": [],
   "source": [
    "embeddings = OllamaEmbeddings(model=\"mxbai-embed-large\")\n",
    "text_splitter = RecursiveCharacterTextSplitter(chunk_size=1000, chunk_overlap=80, is_separator_regex=False)\n",
    "all_docs = []"
   ]
  },
  {
   "cell_type": "code",
   "execution_count": 25,
   "id": "2a0da3c7",
   "metadata": {},
   "outputs": [
    {
     "name": "stdout",
     "output_type": "stream",
     "text": [
      "{'producer': 'pdfTeX-1.40.25', 'creator': 'LaTeX with hyperref', 'creationdate': '2024-04-10T21:11:43+00:00', 'author': '', 'keywords': '', 'moddate': '2024-04-10T21:11:43+00:00', 'ptex.fullbanner': 'This is pdfTeX, Version 3.141592653-2.6-1.40.25 (TeX Live 2023) kpathsea version 6.3.5', 'subject': '', 'title': '', 'trapped': '/False', 'source': './pdfs/Attention_Is_All_You_Need.pdf', 'total_pages': 15, 'page': 0, 'page_label': '1', 'hash': '18e1b007a1dab45b30cc861ba2dfda25', 'chunk_id': 'Attention_Is_All_You_Need.pdf_000', 'uuid': '084e61b4-455b-452c-adf6-1244d10368f1'}\n",
      "{'producer': 'pdfTeX-1.40.25', 'creator': 'LaTeX with hyperref', 'creationdate': '2024-04-10T21:11:43+00:00', 'author': '', 'keywords': '', 'moddate': '2024-04-10T21:11:43+00:00', 'ptex.fullbanner': 'This is pdfTeX, Version 3.141592653-2.6-1.40.25 (TeX Live 2023) kpathsea version 6.3.5', 'subject': '', 'title': '', 'trapped': '/False', 'source': './pdfs/Attention_Is_All_You_Need.pdf', 'total_pages': 15, 'page': 0, 'page_label': '1', 'hash': '18e1b007a1dab45b30cc861ba2dfda25', 'chunk_id': 'Attention_Is_All_You_Need.pdf_001', 'uuid': 'b8d5141b-5160-4352-b213-f22eb843ba17'}\n",
      "{'producer': 'pdfTeX-1.40.25', 'creator': 'LaTeX with hyperref', 'creationdate': '2024-04-10T21:11:43+00:00', 'author': '', 'keywords': '', 'moddate': '2024-04-10T21:11:43+00:00', 'ptex.fullbanner': 'This is pdfTeX, Version 3.141592653-2.6-1.40.25 (TeX Live 2023) kpathsea version 6.3.5', 'subject': '', 'title': '', 'trapped': '/False', 'source': './pdfs/Attention_Is_All_You_Need.pdf', 'total_pages': 15, 'page': 0, 'page_label': '1', 'hash': '18e1b007a1dab45b30cc861ba2dfda25', 'chunk_id': 'Attention_Is_All_You_Need.pdf_002', 'uuid': '1fda5fe1-56af-46d2-8cc7-5981ef6a8d4d'}\n",
      "{'producer': 'pdfTeX-1.40.25', 'creator': 'LaTeX with hyperref', 'creationdate': '2024-04-10T21:11:43+00:00', 'author': '', 'keywords': '', 'moddate': '2024-04-10T21:11:43+00:00', 'ptex.fullbanner': 'This is pdfTeX, Version 3.141592653-2.6-1.40.25 (TeX Live 2023) kpathsea version 6.3.5', 'subject': '', 'title': '', 'trapped': '/False', 'source': './pdfs/Attention_Is_All_You_Need.pdf', 'total_pages': 15, 'page': 0, 'page_label': '1', 'hash': '18e1b007a1dab45b30cc861ba2dfda25', 'chunk_id': 'Attention_Is_All_You_Need.pdf_003', 'uuid': '8d09dfca-eaf7-4963-8001-54472a53ad5d'}\n",
      "{'producer': 'pdfTeX-1.40.25', 'creator': 'LaTeX with hyperref', 'creationdate': '2024-04-10T21:11:43+00:00', 'author': '', 'keywords': '', 'moddate': '2024-04-10T21:11:43+00:00', 'ptex.fullbanner': 'This is pdfTeX, Version 3.141592653-2.6-1.40.25 (TeX Live 2023) kpathsea version 6.3.5', 'subject': '', 'title': '', 'trapped': '/False', 'source': './pdfs/Attention_Is_All_You_Need.pdf', 'total_pages': 15, 'page': 1, 'page_label': '2', 'hash': '18e1b007a1dab45b30cc861ba2dfda25', 'chunk_id': 'Attention_Is_All_You_Need.pdf_004', 'uuid': '99f6c7d2-d407-44d2-8109-74517c8660ad'}\n",
      "{'producer': 'pdfTeX-1.40.25', 'creator': 'LaTeX with hyperref', 'creationdate': '2024-04-10T21:11:43+00:00', 'author': '', 'keywords': '', 'moddate': '2024-04-10T21:11:43+00:00', 'ptex.fullbanner': 'This is pdfTeX, Version 3.141592653-2.6-1.40.25 (TeX Live 2023) kpathsea version 6.3.5', 'subject': '', 'title': '', 'trapped': '/False', 'source': './pdfs/Attention_Is_All_You_Need.pdf', 'total_pages': 15, 'page': 1, 'page_label': '2', 'hash': '18e1b007a1dab45b30cc861ba2dfda25', 'chunk_id': 'Attention_Is_All_You_Need.pdf_005', 'uuid': '3d97f5d7-44e5-4051-9e89-00fd030a97ad'}\n",
      "{'producer': 'pdfTeX-1.40.25', 'creator': 'LaTeX with hyperref', 'creationdate': '2024-04-10T21:11:43+00:00', 'author': '', 'keywords': '', 'moddate': '2024-04-10T21:11:43+00:00', 'ptex.fullbanner': 'This is pdfTeX, Version 3.141592653-2.6-1.40.25 (TeX Live 2023) kpathsea version 6.3.5', 'subject': '', 'title': '', 'trapped': '/False', 'source': './pdfs/Attention_Is_All_You_Need.pdf', 'total_pages': 15, 'page': 1, 'page_label': '2', 'hash': '18e1b007a1dab45b30cc861ba2dfda25', 'chunk_id': 'Attention_Is_All_You_Need.pdf_006', 'uuid': '0128a56b-5ad5-4e3d-b990-32f2811472d9'}\n",
      "{'producer': 'pdfTeX-1.40.25', 'creator': 'LaTeX with hyperref', 'creationdate': '2024-04-10T21:11:43+00:00', 'author': '', 'keywords': '', 'moddate': '2024-04-10T21:11:43+00:00', 'ptex.fullbanner': 'This is pdfTeX, Version 3.141592653-2.6-1.40.25 (TeX Live 2023) kpathsea version 6.3.5', 'subject': '', 'title': '', 'trapped': '/False', 'source': './pdfs/Attention_Is_All_You_Need.pdf', 'total_pages': 15, 'page': 1, 'page_label': '2', 'hash': '18e1b007a1dab45b30cc861ba2dfda25', 'chunk_id': 'Attention_Is_All_You_Need.pdf_007', 'uuid': '91a5ada1-a8f4-466c-beaa-fc044fe43c85'}\n",
      "{'producer': 'pdfTeX-1.40.25', 'creator': 'LaTeX with hyperref', 'creationdate': '2024-04-10T21:11:43+00:00', 'author': '', 'keywords': '', 'moddate': '2024-04-10T21:11:43+00:00', 'ptex.fullbanner': 'This is pdfTeX, Version 3.141592653-2.6-1.40.25 (TeX Live 2023) kpathsea version 6.3.5', 'subject': '', 'title': '', 'trapped': '/False', 'source': './pdfs/Attention_Is_All_You_Need.pdf', 'total_pages': 15, 'page': 1, 'page_label': '2', 'hash': '18e1b007a1dab45b30cc861ba2dfda25', 'chunk_id': 'Attention_Is_All_You_Need.pdf_008', 'uuid': 'cffdeac9-3c77-4fb7-a3db-8bc16cf449ff'}\n",
      "{'producer': 'pdfTeX-1.40.25', 'creator': 'LaTeX with hyperref', 'creationdate': '2024-04-10T21:11:43+00:00', 'author': '', 'keywords': '', 'moddate': '2024-04-10T21:11:43+00:00', 'ptex.fullbanner': 'This is pdfTeX, Version 3.141592653-2.6-1.40.25 (TeX Live 2023) kpathsea version 6.3.5', 'subject': '', 'title': '', 'trapped': '/False', 'source': './pdfs/Attention_Is_All_You_Need.pdf', 'total_pages': 15, 'page': 2, 'page_label': '3', 'hash': '18e1b007a1dab45b30cc861ba2dfda25', 'chunk_id': 'Attention_Is_All_You_Need.pdf_009', 'uuid': '27e867fd-7a5e-4008-8b04-39f7d5a91c16'}\n",
      "{'producer': 'pdfTeX-1.40.25', 'creator': 'LaTeX with hyperref', 'creationdate': '2024-04-10T21:11:43+00:00', 'author': '', 'keywords': '', 'moddate': '2024-04-10T21:11:43+00:00', 'ptex.fullbanner': 'This is pdfTeX, Version 3.141592653-2.6-1.40.25 (TeX Live 2023) kpathsea version 6.3.5', 'subject': '', 'title': '', 'trapped': '/False', 'source': './pdfs/Attention_Is_All_You_Need.pdf', 'total_pages': 15, 'page': 2, 'page_label': '3', 'hash': '18e1b007a1dab45b30cc861ba2dfda25', 'chunk_id': 'Attention_Is_All_You_Need.pdf_010', 'uuid': '8e4453da-e573-4cfb-9c75-7daf5c0179e0'}\n",
      "{'producer': 'pdfTeX-1.40.25', 'creator': 'LaTeX with hyperref', 'creationdate': '2024-04-10T21:11:43+00:00', 'author': '', 'keywords': '', 'moddate': '2024-04-10T21:11:43+00:00', 'ptex.fullbanner': 'This is pdfTeX, Version 3.141592653-2.6-1.40.25 (TeX Live 2023) kpathsea version 6.3.5', 'subject': '', 'title': '', 'trapped': '/False', 'source': './pdfs/Attention_Is_All_You_Need.pdf', 'total_pages': 15, 'page': 3, 'page_label': '4', 'hash': '18e1b007a1dab45b30cc861ba2dfda25', 'chunk_id': 'Attention_Is_All_You_Need.pdf_011', 'uuid': '95a4ab34-9988-4d9b-936b-b65faf3a2aff'}\n",
      "{'producer': 'pdfTeX-1.40.25', 'creator': 'LaTeX with hyperref', 'creationdate': '2024-04-10T21:11:43+00:00', 'author': '', 'keywords': '', 'moddate': '2024-04-10T21:11:43+00:00', 'ptex.fullbanner': 'This is pdfTeX, Version 3.141592653-2.6-1.40.25 (TeX Live 2023) kpathsea version 6.3.5', 'subject': '', 'title': '', 'trapped': '/False', 'source': './pdfs/Attention_Is_All_You_Need.pdf', 'total_pages': 15, 'page': 3, 'page_label': '4', 'hash': '18e1b007a1dab45b30cc861ba2dfda25', 'chunk_id': 'Attention_Is_All_You_Need.pdf_012', 'uuid': '5d6bb11b-16ab-4a9b-a683-5a355c2a561a'}\n",
      "{'producer': 'pdfTeX-1.40.25', 'creator': 'LaTeX with hyperref', 'creationdate': '2024-04-10T21:11:43+00:00', 'author': '', 'keywords': '', 'moddate': '2024-04-10T21:11:43+00:00', 'ptex.fullbanner': 'This is pdfTeX, Version 3.141592653-2.6-1.40.25 (TeX Live 2023) kpathsea version 6.3.5', 'subject': '', 'title': '', 'trapped': '/False', 'source': './pdfs/Attention_Is_All_You_Need.pdf', 'total_pages': 15, 'page': 3, 'page_label': '4', 'hash': '18e1b007a1dab45b30cc861ba2dfda25', 'chunk_id': 'Attention_Is_All_You_Need.pdf_013', 'uuid': '5ba3ec74-fd96-4ed4-92ea-06f5c4218316'}\n",
      "{'producer': 'pdfTeX-1.40.25', 'creator': 'LaTeX with hyperref', 'creationdate': '2024-04-10T21:11:43+00:00', 'author': '', 'keywords': '', 'moddate': '2024-04-10T21:11:43+00:00', 'ptex.fullbanner': 'This is pdfTeX, Version 3.141592653-2.6-1.40.25 (TeX Live 2023) kpathsea version 6.3.5', 'subject': '', 'title': '', 'trapped': '/False', 'source': './pdfs/Attention_Is_All_You_Need.pdf', 'total_pages': 15, 'page': 4, 'page_label': '5', 'hash': '18e1b007a1dab45b30cc861ba2dfda25', 'chunk_id': 'Attention_Is_All_You_Need.pdf_014', 'uuid': 'a896cccd-50b2-4ec7-9f69-2145fe6bb68c'}\n",
      "{'producer': 'pdfTeX-1.40.25', 'creator': 'LaTeX with hyperref', 'creationdate': '2024-04-10T21:11:43+00:00', 'author': '', 'keywords': '', 'moddate': '2024-04-10T21:11:43+00:00', 'ptex.fullbanner': 'This is pdfTeX, Version 3.141592653-2.6-1.40.25 (TeX Live 2023) kpathsea version 6.3.5', 'subject': '', 'title': '', 'trapped': '/False', 'source': './pdfs/Attention_Is_All_You_Need.pdf', 'total_pages': 15, 'page': 4, 'page_label': '5', 'hash': '18e1b007a1dab45b30cc861ba2dfda25', 'chunk_id': 'Attention_Is_All_You_Need.pdf_015', 'uuid': 'b6271761-6363-4f0d-9ae8-c014c589178c'}\n",
      "{'producer': 'pdfTeX-1.40.25', 'creator': 'LaTeX with hyperref', 'creationdate': '2024-04-10T21:11:43+00:00', 'author': '', 'keywords': '', 'moddate': '2024-04-10T21:11:43+00:00', 'ptex.fullbanner': 'This is pdfTeX, Version 3.141592653-2.6-1.40.25 (TeX Live 2023) kpathsea version 6.3.5', 'subject': '', 'title': '', 'trapped': '/False', 'source': './pdfs/Attention_Is_All_You_Need.pdf', 'total_pages': 15, 'page': 4, 'page_label': '5', 'hash': '18e1b007a1dab45b30cc861ba2dfda25', 'chunk_id': 'Attention_Is_All_You_Need.pdf_016', 'uuid': 'fc536476-af89-4fae-93ae-2c59d08fca86'}\n",
      "{'producer': 'pdfTeX-1.40.25', 'creator': 'LaTeX with hyperref', 'creationdate': '2024-04-10T21:11:43+00:00', 'author': '', 'keywords': '', 'moddate': '2024-04-10T21:11:43+00:00', 'ptex.fullbanner': 'This is pdfTeX, Version 3.141592653-2.6-1.40.25 (TeX Live 2023) kpathsea version 6.3.5', 'subject': '', 'title': '', 'trapped': '/False', 'source': './pdfs/Attention_Is_All_You_Need.pdf', 'total_pages': 15, 'page': 4, 'page_label': '5', 'hash': '18e1b007a1dab45b30cc861ba2dfda25', 'chunk_id': 'Attention_Is_All_You_Need.pdf_017', 'uuid': 'f2fef9cf-988e-4e75-9d0e-9ad94197b0a4'}\n",
      "{'producer': 'pdfTeX-1.40.25', 'creator': 'LaTeX with hyperref', 'creationdate': '2024-04-10T21:11:43+00:00', 'author': '', 'keywords': '', 'moddate': '2024-04-10T21:11:43+00:00', 'ptex.fullbanner': 'This is pdfTeX, Version 3.141592653-2.6-1.40.25 (TeX Live 2023) kpathsea version 6.3.5', 'subject': '', 'title': '', 'trapped': '/False', 'source': './pdfs/Attention_Is_All_You_Need.pdf', 'total_pages': 15, 'page': 5, 'page_label': '6', 'hash': '18e1b007a1dab45b30cc861ba2dfda25', 'chunk_id': 'Attention_Is_All_You_Need.pdf_018', 'uuid': 'ed76f7ad-2170-4c14-9205-1ea118e10c92'}\n",
      "{'producer': 'pdfTeX-1.40.25', 'creator': 'LaTeX with hyperref', 'creationdate': '2024-04-10T21:11:43+00:00', 'author': '', 'keywords': '', 'moddate': '2024-04-10T21:11:43+00:00', 'ptex.fullbanner': 'This is pdfTeX, Version 3.141592653-2.6-1.40.25 (TeX Live 2023) kpathsea version 6.3.5', 'subject': '', 'title': '', 'trapped': '/False', 'source': './pdfs/Attention_Is_All_You_Need.pdf', 'total_pages': 15, 'page': 5, 'page_label': '6', 'hash': '18e1b007a1dab45b30cc861ba2dfda25', 'chunk_id': 'Attention_Is_All_You_Need.pdf_019', 'uuid': '70c8044e-a419-415a-9e75-e0db1c0f149b'}\n",
      "{'producer': 'pdfTeX-1.40.25', 'creator': 'LaTeX with hyperref', 'creationdate': '2024-04-10T21:11:43+00:00', 'author': '', 'keywords': '', 'moddate': '2024-04-10T21:11:43+00:00', 'ptex.fullbanner': 'This is pdfTeX, Version 3.141592653-2.6-1.40.25 (TeX Live 2023) kpathsea version 6.3.5', 'subject': '', 'title': '', 'trapped': '/False', 'source': './pdfs/Attention_Is_All_You_Need.pdf', 'total_pages': 15, 'page': 5, 'page_label': '6', 'hash': '18e1b007a1dab45b30cc861ba2dfda25', 'chunk_id': 'Attention_Is_All_You_Need.pdf_020', 'uuid': '1b731d36-3fc0-4b56-bcf5-d83076a1914a'}\n",
      "{'producer': 'pdfTeX-1.40.25', 'creator': 'LaTeX with hyperref', 'creationdate': '2024-04-10T21:11:43+00:00', 'author': '', 'keywords': '', 'moddate': '2024-04-10T21:11:43+00:00', 'ptex.fullbanner': 'This is pdfTeX, Version 3.141592653-2.6-1.40.25 (TeX Live 2023) kpathsea version 6.3.5', 'subject': '', 'title': '', 'trapped': '/False', 'source': './pdfs/Attention_Is_All_You_Need.pdf', 'total_pages': 15, 'page': 5, 'page_label': '6', 'hash': '18e1b007a1dab45b30cc861ba2dfda25', 'chunk_id': 'Attention_Is_All_You_Need.pdf_021', 'uuid': 'b485d66b-1156-4555-9081-af9831b80d36'}\n",
      "{'producer': 'pdfTeX-1.40.25', 'creator': 'LaTeX with hyperref', 'creationdate': '2024-04-10T21:11:43+00:00', 'author': '', 'keywords': '', 'moddate': '2024-04-10T21:11:43+00:00', 'ptex.fullbanner': 'This is pdfTeX, Version 3.141592653-2.6-1.40.25 (TeX Live 2023) kpathsea version 6.3.5', 'subject': '', 'title': '', 'trapped': '/False', 'source': './pdfs/Attention_Is_All_You_Need.pdf', 'total_pages': 15, 'page': 6, 'page_label': '7', 'hash': '18e1b007a1dab45b30cc861ba2dfda25', 'chunk_id': 'Attention_Is_All_You_Need.pdf_022', 'uuid': '0b55c885-59e2-4e04-9e93-099638fdd263'}\n",
      "{'producer': 'pdfTeX-1.40.25', 'creator': 'LaTeX with hyperref', 'creationdate': '2024-04-10T21:11:43+00:00', 'author': '', 'keywords': '', 'moddate': '2024-04-10T21:11:43+00:00', 'ptex.fullbanner': 'This is pdfTeX, Version 3.141592653-2.6-1.40.25 (TeX Live 2023) kpathsea version 6.3.5', 'subject': '', 'title': '', 'trapped': '/False', 'source': './pdfs/Attention_Is_All_You_Need.pdf', 'total_pages': 15, 'page': 6, 'page_label': '7', 'hash': '18e1b007a1dab45b30cc861ba2dfda25', 'chunk_id': 'Attention_Is_All_You_Need.pdf_023', 'uuid': '2efd7518-307e-4905-8089-08ee273c9c27'}\n",
      "{'producer': 'pdfTeX-1.40.25', 'creator': 'LaTeX with hyperref', 'creationdate': '2024-04-10T21:11:43+00:00', 'author': '', 'keywords': '', 'moddate': '2024-04-10T21:11:43+00:00', 'ptex.fullbanner': 'This is pdfTeX, Version 3.141592653-2.6-1.40.25 (TeX Live 2023) kpathsea version 6.3.5', 'subject': '', 'title': '', 'trapped': '/False', 'source': './pdfs/Attention_Is_All_You_Need.pdf', 'total_pages': 15, 'page': 6, 'page_label': '7', 'hash': '18e1b007a1dab45b30cc861ba2dfda25', 'chunk_id': 'Attention_Is_All_You_Need.pdf_024', 'uuid': '34d9a259-23ec-4227-b586-a666b2f3dab5'}\n",
      "{'producer': 'pdfTeX-1.40.25', 'creator': 'LaTeX with hyperref', 'creationdate': '2024-04-10T21:11:43+00:00', 'author': '', 'keywords': '', 'moddate': '2024-04-10T21:11:43+00:00', 'ptex.fullbanner': 'This is pdfTeX, Version 3.141592653-2.6-1.40.25 (TeX Live 2023) kpathsea version 6.3.5', 'subject': '', 'title': '', 'trapped': '/False', 'source': './pdfs/Attention_Is_All_You_Need.pdf', 'total_pages': 15, 'page': 6, 'page_label': '7', 'hash': '18e1b007a1dab45b30cc861ba2dfda25', 'chunk_id': 'Attention_Is_All_You_Need.pdf_025', 'uuid': '8319d63d-887e-4159-b0a8-095134399d92'}\n",
      "{'producer': 'pdfTeX-1.40.25', 'creator': 'LaTeX with hyperref', 'creationdate': '2024-04-10T21:11:43+00:00', 'author': '', 'keywords': '', 'moddate': '2024-04-10T21:11:43+00:00', 'ptex.fullbanner': 'This is pdfTeX, Version 3.141592653-2.6-1.40.25 (TeX Live 2023) kpathsea version 6.3.5', 'subject': '', 'title': '', 'trapped': '/False', 'source': './pdfs/Attention_Is_All_You_Need.pdf', 'total_pages': 15, 'page': 7, 'page_label': '8', 'hash': '18e1b007a1dab45b30cc861ba2dfda25', 'chunk_id': 'Attention_Is_All_You_Need.pdf_026', 'uuid': '676bb724-fd67-41fb-b277-bd6a2995bc9f'}\n",
      "{'producer': 'pdfTeX-1.40.25', 'creator': 'LaTeX with hyperref', 'creationdate': '2024-04-10T21:11:43+00:00', 'author': '', 'keywords': '', 'moddate': '2024-04-10T21:11:43+00:00', 'ptex.fullbanner': 'This is pdfTeX, Version 3.141592653-2.6-1.40.25 (TeX Live 2023) kpathsea version 6.3.5', 'subject': '', 'title': '', 'trapped': '/False', 'source': './pdfs/Attention_Is_All_You_Need.pdf', 'total_pages': 15, 'page': 7, 'page_label': '8', 'hash': '18e1b007a1dab45b30cc861ba2dfda25', 'chunk_id': 'Attention_Is_All_You_Need.pdf_027', 'uuid': 'fff23f88-cf52-4da2-8e9a-90892678ed62'}\n",
      "{'producer': 'pdfTeX-1.40.25', 'creator': 'LaTeX with hyperref', 'creationdate': '2024-04-10T21:11:43+00:00', 'author': '', 'keywords': '', 'moddate': '2024-04-10T21:11:43+00:00', 'ptex.fullbanner': 'This is pdfTeX, Version 3.141592653-2.6-1.40.25 (TeX Live 2023) kpathsea version 6.3.5', 'subject': '', 'title': '', 'trapped': '/False', 'source': './pdfs/Attention_Is_All_You_Need.pdf', 'total_pages': 15, 'page': 7, 'page_label': '8', 'hash': '18e1b007a1dab45b30cc861ba2dfda25', 'chunk_id': 'Attention_Is_All_You_Need.pdf_028', 'uuid': '69016e60-7ab0-4cf1-89bd-8d071d1c2d5b'}\n",
      "{'producer': 'pdfTeX-1.40.25', 'creator': 'LaTeX with hyperref', 'creationdate': '2024-04-10T21:11:43+00:00', 'author': '', 'keywords': '', 'moddate': '2024-04-10T21:11:43+00:00', 'ptex.fullbanner': 'This is pdfTeX, Version 3.141592653-2.6-1.40.25 (TeX Live 2023) kpathsea version 6.3.5', 'subject': '', 'title': '', 'trapped': '/False', 'source': './pdfs/Attention_Is_All_You_Need.pdf', 'total_pages': 15, 'page': 7, 'page_label': '8', 'hash': '18e1b007a1dab45b30cc861ba2dfda25', 'chunk_id': 'Attention_Is_All_You_Need.pdf_029', 'uuid': '8748fa65-7635-4531-97f9-a7d22afb53b0'}\n",
      "{'producer': 'pdfTeX-1.40.25', 'creator': 'LaTeX with hyperref', 'creationdate': '2024-04-10T21:11:43+00:00', 'author': '', 'keywords': '', 'moddate': '2024-04-10T21:11:43+00:00', 'ptex.fullbanner': 'This is pdfTeX, Version 3.141592653-2.6-1.40.25 (TeX Live 2023) kpathsea version 6.3.5', 'subject': '', 'title': '', 'trapped': '/False', 'source': './pdfs/Attention_Is_All_You_Need.pdf', 'total_pages': 15, 'page': 8, 'page_label': '9', 'hash': '18e1b007a1dab45b30cc861ba2dfda25', 'chunk_id': 'Attention_Is_All_You_Need.pdf_030', 'uuid': '1287b883-8336-41f4-9958-da07bc5f9c2e'}\n",
      "{'producer': 'pdfTeX-1.40.25', 'creator': 'LaTeX with hyperref', 'creationdate': '2024-04-10T21:11:43+00:00', 'author': '', 'keywords': '', 'moddate': '2024-04-10T21:11:43+00:00', 'ptex.fullbanner': 'This is pdfTeX, Version 3.141592653-2.6-1.40.25 (TeX Live 2023) kpathsea version 6.3.5', 'subject': '', 'title': '', 'trapped': '/False', 'source': './pdfs/Attention_Is_All_You_Need.pdf', 'total_pages': 15, 'page': 8, 'page_label': '9', 'hash': '18e1b007a1dab45b30cc861ba2dfda25', 'chunk_id': 'Attention_Is_All_You_Need.pdf_031', 'uuid': '3d1d451d-930b-404b-a405-f86abe36983b'}\n",
      "{'producer': 'pdfTeX-1.40.25', 'creator': 'LaTeX with hyperref', 'creationdate': '2024-04-10T21:11:43+00:00', 'author': '', 'keywords': '', 'moddate': '2024-04-10T21:11:43+00:00', 'ptex.fullbanner': 'This is pdfTeX, Version 3.141592653-2.6-1.40.25 (TeX Live 2023) kpathsea version 6.3.5', 'subject': '', 'title': '', 'trapped': '/False', 'source': './pdfs/Attention_Is_All_You_Need.pdf', 'total_pages': 15, 'page': 8, 'page_label': '9', 'hash': '18e1b007a1dab45b30cc861ba2dfda25', 'chunk_id': 'Attention_Is_All_You_Need.pdf_032', 'uuid': '6d0994e7-4599-43d6-8bb3-44ef08992599'}\n",
      "{'producer': 'pdfTeX-1.40.25', 'creator': 'LaTeX with hyperref', 'creationdate': '2024-04-10T21:11:43+00:00', 'author': '', 'keywords': '', 'moddate': '2024-04-10T21:11:43+00:00', 'ptex.fullbanner': 'This is pdfTeX, Version 3.141592653-2.6-1.40.25 (TeX Live 2023) kpathsea version 6.3.5', 'subject': '', 'title': '', 'trapped': '/False', 'source': './pdfs/Attention_Is_All_You_Need.pdf', 'total_pages': 15, 'page': 8, 'page_label': '9', 'hash': '18e1b007a1dab45b30cc861ba2dfda25', 'chunk_id': 'Attention_Is_All_You_Need.pdf_033', 'uuid': '93bae467-7e6c-43d4-8091-6c174601b391'}\n",
      "{'producer': 'pdfTeX-1.40.25', 'creator': 'LaTeX with hyperref', 'creationdate': '2024-04-10T21:11:43+00:00', 'author': '', 'keywords': '', 'moddate': '2024-04-10T21:11:43+00:00', 'ptex.fullbanner': 'This is pdfTeX, Version 3.141592653-2.6-1.40.25 (TeX Live 2023) kpathsea version 6.3.5', 'subject': '', 'title': '', 'trapped': '/False', 'source': './pdfs/Attention_Is_All_You_Need.pdf', 'total_pages': 15, 'page': 9, 'page_label': '10', 'hash': '18e1b007a1dab45b30cc861ba2dfda25', 'chunk_id': 'Attention_Is_All_You_Need.pdf_034', 'uuid': '4d23f2ae-cb3a-4682-a731-5efb612d2b91'}\n",
      "{'producer': 'pdfTeX-1.40.25', 'creator': 'LaTeX with hyperref', 'creationdate': '2024-04-10T21:11:43+00:00', 'author': '', 'keywords': '', 'moddate': '2024-04-10T21:11:43+00:00', 'ptex.fullbanner': 'This is pdfTeX, Version 3.141592653-2.6-1.40.25 (TeX Live 2023) kpathsea version 6.3.5', 'subject': '', 'title': '', 'trapped': '/False', 'source': './pdfs/Attention_Is_All_You_Need.pdf', 'total_pages': 15, 'page': 9, 'page_label': '10', 'hash': '18e1b007a1dab45b30cc861ba2dfda25', 'chunk_id': 'Attention_Is_All_You_Need.pdf_035', 'uuid': 'a1d78fad-f8f6-4534-a554-8a497717924e'}\n",
      "{'producer': 'pdfTeX-1.40.25', 'creator': 'LaTeX with hyperref', 'creationdate': '2024-04-10T21:11:43+00:00', 'author': '', 'keywords': '', 'moddate': '2024-04-10T21:11:43+00:00', 'ptex.fullbanner': 'This is pdfTeX, Version 3.141592653-2.6-1.40.25 (TeX Live 2023) kpathsea version 6.3.5', 'subject': '', 'title': '', 'trapped': '/False', 'source': './pdfs/Attention_Is_All_You_Need.pdf', 'total_pages': 15, 'page': 9, 'page_label': '10', 'hash': '18e1b007a1dab45b30cc861ba2dfda25', 'chunk_id': 'Attention_Is_All_You_Need.pdf_036', 'uuid': 'cb00f05b-3a5e-4c82-a44c-dec2e444a706'}\n",
      "{'producer': 'pdfTeX-1.40.25', 'creator': 'LaTeX with hyperref', 'creationdate': '2024-04-10T21:11:43+00:00', 'author': '', 'keywords': '', 'moddate': '2024-04-10T21:11:43+00:00', 'ptex.fullbanner': 'This is pdfTeX, Version 3.141592653-2.6-1.40.25 (TeX Live 2023) kpathsea version 6.3.5', 'subject': '', 'title': '', 'trapped': '/False', 'source': './pdfs/Attention_Is_All_You_Need.pdf', 'total_pages': 15, 'page': 10, 'page_label': '11', 'hash': '18e1b007a1dab45b30cc861ba2dfda25', 'chunk_id': 'Attention_Is_All_You_Need.pdf_037', 'uuid': 'c272216d-0e32-4079-964b-04da43bcc316'}\n",
      "{'producer': 'pdfTeX-1.40.25', 'creator': 'LaTeX with hyperref', 'creationdate': '2024-04-10T21:11:43+00:00', 'author': '', 'keywords': '', 'moddate': '2024-04-10T21:11:43+00:00', 'ptex.fullbanner': 'This is pdfTeX, Version 3.141592653-2.6-1.40.25 (TeX Live 2023) kpathsea version 6.3.5', 'subject': '', 'title': '', 'trapped': '/False', 'source': './pdfs/Attention_Is_All_You_Need.pdf', 'total_pages': 15, 'page': 10, 'page_label': '11', 'hash': '18e1b007a1dab45b30cc861ba2dfda25', 'chunk_id': 'Attention_Is_All_You_Need.pdf_038', 'uuid': 'd19868c4-d144-4909-bbb1-eb545b8f83e7'}\n",
      "{'producer': 'pdfTeX-1.40.25', 'creator': 'LaTeX with hyperref', 'creationdate': '2024-04-10T21:11:43+00:00', 'author': '', 'keywords': '', 'moddate': '2024-04-10T21:11:43+00:00', 'ptex.fullbanner': 'This is pdfTeX, Version 3.141592653-2.6-1.40.25 (TeX Live 2023) kpathsea version 6.3.5', 'subject': '', 'title': '', 'trapped': '/False', 'source': './pdfs/Attention_Is_All_You_Need.pdf', 'total_pages': 15, 'page': 10, 'page_label': '11', 'hash': '18e1b007a1dab45b30cc861ba2dfda25', 'chunk_id': 'Attention_Is_All_You_Need.pdf_039', 'uuid': 'ca221f6f-6848-4d00-aca2-5b3a8da1177c'}\n",
      "{'producer': 'pdfTeX-1.40.25', 'creator': 'LaTeX with hyperref', 'creationdate': '2024-04-10T21:11:43+00:00', 'author': '', 'keywords': '', 'moddate': '2024-04-10T21:11:43+00:00', 'ptex.fullbanner': 'This is pdfTeX, Version 3.141592653-2.6-1.40.25 (TeX Live 2023) kpathsea version 6.3.5', 'subject': '', 'title': '', 'trapped': '/False', 'source': './pdfs/Attention_Is_All_You_Need.pdf', 'total_pages': 15, 'page': 10, 'page_label': '11', 'hash': '18e1b007a1dab45b30cc861ba2dfda25', 'chunk_id': 'Attention_Is_All_You_Need.pdf_040', 'uuid': '26e66432-7be1-4f4e-b6cf-649254e46744'}\n",
      "{'producer': 'pdfTeX-1.40.25', 'creator': 'LaTeX with hyperref', 'creationdate': '2024-04-10T21:11:43+00:00', 'author': '', 'keywords': '', 'moddate': '2024-04-10T21:11:43+00:00', 'ptex.fullbanner': 'This is pdfTeX, Version 3.141592653-2.6-1.40.25 (TeX Live 2023) kpathsea version 6.3.5', 'subject': '', 'title': '', 'trapped': '/False', 'source': './pdfs/Attention_Is_All_You_Need.pdf', 'total_pages': 15, 'page': 11, 'page_label': '12', 'hash': '18e1b007a1dab45b30cc861ba2dfda25', 'chunk_id': 'Attention_Is_All_You_Need.pdf_041', 'uuid': '8a4c97f5-babc-451b-b88b-39fb5ac0ea8b'}\n",
      "{'producer': 'pdfTeX-1.40.25', 'creator': 'LaTeX with hyperref', 'creationdate': '2024-04-10T21:11:43+00:00', 'author': '', 'keywords': '', 'moddate': '2024-04-10T21:11:43+00:00', 'ptex.fullbanner': 'This is pdfTeX, Version 3.141592653-2.6-1.40.25 (TeX Live 2023) kpathsea version 6.3.5', 'subject': '', 'title': '', 'trapped': '/False', 'source': './pdfs/Attention_Is_All_You_Need.pdf', 'total_pages': 15, 'page': 11, 'page_label': '12', 'hash': '18e1b007a1dab45b30cc861ba2dfda25', 'chunk_id': 'Attention_Is_All_You_Need.pdf_042', 'uuid': 'fed00485-6074-4d99-b79e-16f9fa6f6bbc'}\n",
      "{'producer': 'pdfTeX-1.40.25', 'creator': 'LaTeX with hyperref', 'creationdate': '2024-04-10T21:11:43+00:00', 'author': '', 'keywords': '', 'moddate': '2024-04-10T21:11:43+00:00', 'ptex.fullbanner': 'This is pdfTeX, Version 3.141592653-2.6-1.40.25 (TeX Live 2023) kpathsea version 6.3.5', 'subject': '', 'title': '', 'trapped': '/False', 'source': './pdfs/Attention_Is_All_You_Need.pdf', 'total_pages': 15, 'page': 11, 'page_label': '12', 'hash': '18e1b007a1dab45b30cc861ba2dfda25', 'chunk_id': 'Attention_Is_All_You_Need.pdf_043', 'uuid': '29b5cc9f-dfdc-44a3-8e10-1b864e4b58a7'}\n",
      "{'producer': 'pdfTeX-1.40.25', 'creator': 'LaTeX with hyperref', 'creationdate': '2024-04-10T21:11:43+00:00', 'author': '', 'keywords': '', 'moddate': '2024-04-10T21:11:43+00:00', 'ptex.fullbanner': 'This is pdfTeX, Version 3.141592653-2.6-1.40.25 (TeX Live 2023) kpathsea version 6.3.5', 'subject': '', 'title': '', 'trapped': '/False', 'source': './pdfs/Attention_Is_All_You_Need.pdf', 'total_pages': 15, 'page': 11, 'page_label': '12', 'hash': '18e1b007a1dab45b30cc861ba2dfda25', 'chunk_id': 'Attention_Is_All_You_Need.pdf_044', 'uuid': 'd362a7be-a53a-44d3-b80d-b608d6aea0b6'}\n",
      "{'producer': 'pdfTeX-1.40.25', 'creator': 'LaTeX with hyperref', 'creationdate': '2024-04-10T21:11:43+00:00', 'author': '', 'keywords': '', 'moddate': '2024-04-10T21:11:43+00:00', 'ptex.fullbanner': 'This is pdfTeX, Version 3.141592653-2.6-1.40.25 (TeX Live 2023) kpathsea version 6.3.5', 'subject': '', 'title': '', 'trapped': '/False', 'source': './pdfs/Attention_Is_All_You_Need.pdf', 'total_pages': 15, 'page': 12, 'page_label': '13', 'hash': '18e1b007a1dab45b30cc861ba2dfda25', 'chunk_id': 'Attention_Is_All_You_Need.pdf_045', 'uuid': 'e73239ae-2d53-4bde-8f0a-da0b6fdc0bd7'}\n",
      "{'producer': 'pdfTeX-1.40.25', 'creator': 'LaTeX with hyperref', 'creationdate': '2024-04-10T21:11:43+00:00', 'author': '', 'keywords': '', 'moddate': '2024-04-10T21:11:43+00:00', 'ptex.fullbanner': 'This is pdfTeX, Version 3.141592653-2.6-1.40.25 (TeX Live 2023) kpathsea version 6.3.5', 'subject': '', 'title': '', 'trapped': '/False', 'source': './pdfs/Attention_Is_All_You_Need.pdf', 'total_pages': 15, 'page': 13, 'page_label': '14', 'hash': '18e1b007a1dab45b30cc861ba2dfda25', 'chunk_id': 'Attention_Is_All_You_Need.pdf_046', 'uuid': '5be5f2f7-b58a-4826-bbad-957901476ece'}\n",
      "{'producer': 'pdfTeX-1.40.25', 'creator': 'LaTeX with hyperref', 'creationdate': '2024-04-10T21:11:43+00:00', 'author': '', 'keywords': '', 'moddate': '2024-04-10T21:11:43+00:00', 'ptex.fullbanner': 'This is pdfTeX, Version 3.141592653-2.6-1.40.25 (TeX Live 2023) kpathsea version 6.3.5', 'subject': '', 'title': '', 'trapped': '/False', 'source': './pdfs/Attention_Is_All_You_Need.pdf', 'total_pages': 15, 'page': 14, 'page_label': '15', 'hash': '18e1b007a1dab45b30cc861ba2dfda25', 'chunk_id': 'Attention_Is_All_You_Need.pdf_047', 'uuid': '48666f2b-9389-4c65-b468-c26b76c20ce3'}\n"
     ]
    }
   ],
   "source": [
    "loader = PyPDFLoader(filepath)\n",
    "docs = loader.load()\n",
    "CLEAN_REFERENCES = True\n",
    "# Clean and normalize text\n",
    "for d in docs:\n",
    "    d.page_content = normalize_text(clean_text(d.page_content))\n",
    "    if CLEAN_REFERENCES:\n",
    "        d.page_content = remove_references(d.page_content)\n",
    "\n",
    "chunks = text_splitter.split_documents(docs)\n",
    "file_hash = hasher.hexdigest()\n",
    "all_docs = []\n",
    "\n",
    "for idx, chunk in enumerate(chunks):\n",
    "    chunk.metadata[\"source\"] = filepath\n",
    "    chunk.metadata[\"hash\"] = file_hash\n",
    "    chunk.metadata[\"chunk_id\"] = f\"{os.path.basename(filepath)}_{idx:03d}\"\n",
    "    chunk.metadata[\"uuid\"] = str(uuid.uuid4())  # globally unique identifier\n",
    "    print(chunk.metadata)\n",
    "\n",
    "all_docs.extend(chunks)"
   ]
  },
  {
   "cell_type": "code",
   "execution_count": 26,
   "id": "c6f82fa5",
   "metadata": {},
   "outputs": [
    {
     "data": {
      "text/plain": [
       "Document(metadata={'producer': 'pdfTeX-1.40.25', 'creator': 'LaTeX with hyperref', 'creationdate': '2024-04-10T21:11:43+00:00', 'author': '', 'keywords': '', 'moddate': '2024-04-10T21:11:43+00:00', 'ptex.fullbanner': 'This is pdfTeX, Version 3.141592653-2.6-1.40.25 (TeX Live 2023) kpathsea version 6.3.5', 'subject': '', 'title': '', 'trapped': '/False', 'source': './pdfs/Attention_Is_All_You_Need.pdf', 'total_pages': 15, 'page': 0, 'page_label': '1', 'hash': '18e1b007a1dab45b30cc861ba2dfda25', 'chunk_id': 'Attention_Is_All_You_Need.pdf_000', 'uuid': '084e61b4-455b-452c-adf6-1244d10368f1'}, page_content='Provided proper attribution is provided, Google hereby grants permission to reproduce the tables and figures in this paper solely for use in journalistic or scholarly works. Attention Is All You Need Ashish Vaswani∗ Google Brain avaswani@google.com Noam Shazeer∗ Google Brain noam@google.com Niki Parmar∗ Google Research nikip@google.com Jakob Uszkoreit∗ Google Research usz@google.com Llion Jones∗ Google Research llion@google.com Aidan N. Gomez∗ † University of Toronto aidan@cs.toronto.edu Łukasz Kaiser∗ Google Brain lukaszkaiser@google.com Illia Polosukhin∗ ‡ illia.polosukhin@gmail.com Abstract The dominant sequence transduction models are based on complex recurrent or convolutional neural networks that include an encoder and a decoder. The best performing models also connect the encoder and decoder through an attention mechanism. We propose a new simple network architecture, the Transformer, based solely on attention mechanisms, dispensing with recurrence and convolutions entirely.')"
      ]
     },
     "execution_count": 26,
     "metadata": {},
     "output_type": "execute_result"
    }
   ],
   "source": [
    "all_docs[0]"
   ]
  },
  {
   "cell_type": "code",
   "execution_count": null,
   "id": "72994e3e",
   "metadata": {},
   "outputs": [],
   "source": [
    "\n",
    "\n",
    "\n",
    "\n",
    "\n",
    "\n",
    "\n",
    "\n",
    "def get_new_pdfs(pdf_folder: str, existing_hashes: Dict[str, str]) -> List[str]:\n",
    "    \"\"\"Return a list of new or changed PDFs.\"\"\"\n",
    "    new_files = []\n",
    "    for filename in os.listdir(pdf_folder):\n",
    "        if not filename.lower().endswith(\".pdf\"):\n",
    "            continue\n",
    "        filepath = os.path.join(pdf_folder, filename)\n",
    "        file_hash = get_file_hash(filepath)\n",
    "        if filename not in existing_hashes or existing_hashes[filename] != file_hash:\n",
    "            new_files.append(filepath)\n",
    "    return new_files\n",
    "\n",
    "\n",
    "def process_pdfs(pdf_files: List[str], persist_dir: str):\n",
    "    \"\"\"Loads PDFs, chunks text, creates embeddings, and saves to Chroma.\"\"\"\n",
    "    if not pdf_files:\n",
    "        print(\"✅ No new PDFs found.\")\n",
    "        return\n",
    "\n",
    "    print(f\"📄 Found {len(pdf_files)} new PDF(s): {[os.path.basename(f) for f in pdf_files]}\")\n",
    "\n",
    "    embeddings = OllamaEmbeddings(model=\"mxbai-embed-large\")\n",
    "    text_splitter = RecursiveCharacterTextSplitter(chunk_size=1500, chunk_overlap=200)\n",
    "    all_docs = []\n",
    "\n",
    "    for filepath in pdf_files:\n",
    "        loader = PyPDFLoader(filepath)\n",
    "        docs = loader.load()\n",
    "        chunks = text_splitter.split_documents(docs)\n",
    "        file_hash = get_file_hash(filepath)\n",
    "        for chunk in chunks:\n",
    "            chunk.metadata[\"source\"] = filepath\n",
    "            chunk.metadata[\"hash\"] = file_hash\n",
    "        all_docs.extend(chunks)\n",
    "\n",
    "    print(\"🔢 Creating embeddings and updating Chroma...\")\n",
    "    db = Chroma(persist_directory=persist_dir, embedding_function=embeddings)\n",
    "    db.add_documents(all_docs)\n",
    "    db.persist()\n",
    "    print(\"✅ Update complete!\")\n",
    "\n",
    "\n",
    "def update_rag(pdf_folder: str, persist_dir: str):\n",
    "    \"\"\"Main function to detect and add new PDFs to the RAG.\"\"\"\n",
    "    print(\"🔍 Checking for new PDFs...\")\n",
    "    existing = load_existing_metadata(persist_dir)\n",
    "    new_pdfs = get_new_pdfs(pdf_folder, existing)\n",
    "    process_pdfs(new_pdfs, persist_dir)\n",
    "\n",
    "\n",
    "if __name__ == \"__main__\":\n",
    "    PDF_FOLDER = \"./pdfs\"\n",
    "    PERSIST_DIR = \"./chroma_db\"\n",
    "\n",
    "    os.makedirs(PDF_FOLDER, exist_ok=True)\n",
    "    os.makedirs(PERSIST_DIR, exist_ok=True)\n",
    "\n",
    "    update_rag(PDF_FOLDER, PERSIST_DIR)\n"
   ]
  }
 ],
 "metadata": {
  "kernelspec": {
   "display_name": "rag_env",
   "language": "python",
   "name": "python3"
  },
  "language_info": {
   "codemirror_mode": {
    "name": "ipython",
    "version": 3
   },
   "file_extension": ".py",
   "mimetype": "text/x-python",
   "name": "python",
   "nbconvert_exporter": "python",
   "pygments_lexer": "ipython3",
   "version": "3.11.13"
  }
 },
 "nbformat": 4,
 "nbformat_minor": 5
}
